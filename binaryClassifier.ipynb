{
 "cells": [
  {
   "cell_type": "code",
   "execution_count": 1,
   "metadata": {},
   "outputs": [],
   "source": [
    "#packages\n",
    "import tensorflow as tf\n",
    "tf.random.set_seed(25)\n",
    "import keras\n",
    "from keras.models import Sequential\n",
    "from keras.layers import Dense, Dropout, Activation\n",
    "from keras.optimizers import SGD\n",
    "import pandas as pd\n",
    "import re\n",
    "from numpy import array\n",
    "import numpy as np\n",
    "data = pd.read_csv('Downloads/train-io.txt', sep=\" \", header=None)\n",
    "from sklearn.preprocessing import StandardScaler\n",
    "#data = data[0:60000]\n",
    "#import tensorflow as tf"
   ]
  },
  {
   "cell_type": "code",
   "execution_count": 2,
   "metadata": {},
   "outputs": [
    {
     "data": {
      "text/html": [
       "<div>\n",
       "<style scoped>\n",
       "    .dataframe tbody tr th:only-of-type {\n",
       "        vertical-align: middle;\n",
       "    }\n",
       "\n",
       "    .dataframe tbody tr th {\n",
       "        vertical-align: top;\n",
       "    }\n",
       "\n",
       "    .dataframe thead th {\n",
       "        text-align: right;\n",
       "    }\n",
       "</style>\n",
       "<table border=\"1\" class=\"dataframe\">\n",
       "  <thead>\n",
       "    <tr style=\"text-align: right;\">\n",
       "      <th></th>\n",
       "      <th>0</th>\n",
       "      <th>1</th>\n",
       "      <th>2</th>\n",
       "      <th>3</th>\n",
       "      <th>4</th>\n",
       "      <th>5</th>\n",
       "      <th>6</th>\n",
       "      <th>7</th>\n",
       "      <th>8</th>\n",
       "      <th>9</th>\n",
       "      <th>10</th>\n",
       "      <th>11</th>\n",
       "      <th>12</th>\n",
       "    </tr>\n",
       "  </thead>\n",
       "  <tbody>\n",
       "    <tr>\n",
       "      <th>0</th>\n",
       "      <td>1.830433</td>\n",
       "      <td>1.494298</td>\n",
       "      <td>-2.141080</td>\n",
       "      <td>-2.155460</td>\n",
       "      <td>0.270127</td>\n",
       "      <td>-0.200620</td>\n",
       "      <td>0.093839</td>\n",
       "      <td>1.171075</td>\n",
       "      <td>1.403914</td>\n",
       "      <td>1.396813</td>\n",
       "      <td>-1.544217</td>\n",
       "      <td>1.676625</td>\n",
       "      <td>0</td>\n",
       "    </tr>\n",
       "    <tr>\n",
       "      <th>1</th>\n",
       "      <td>-1.408457</td>\n",
       "      <td>-2.556497</td>\n",
       "      <td>2.616034</td>\n",
       "      <td>3.000666</td>\n",
       "      <td>1.154949</td>\n",
       "      <td>0.288982</td>\n",
       "      <td>-0.404475</td>\n",
       "      <td>-3.067904</td>\n",
       "      <td>-0.783279</td>\n",
       "      <td>-0.588727</td>\n",
       "      <td>4.597042</td>\n",
       "      <td>-0.110411</td>\n",
       "      <td>1</td>\n",
       "    </tr>\n",
       "    <tr>\n",
       "      <th>2</th>\n",
       "      <td>1.760458</td>\n",
       "      <td>4.608794</td>\n",
       "      <td>-0.142573</td>\n",
       "      <td>1.472204</td>\n",
       "      <td>-3.849782</td>\n",
       "      <td>1.473854</td>\n",
       "      <td>-1.868692</td>\n",
       "      <td>-0.640403</td>\n",
       "      <td>0.538785</td>\n",
       "      <td>2.146118</td>\n",
       "      <td>3.052427</td>\n",
       "      <td>0.949428</td>\n",
       "      <td>1</td>\n",
       "    </tr>\n",
       "    <tr>\n",
       "      <th>3</th>\n",
       "      <td>-1.731262</td>\n",
       "      <td>0.231366</td>\n",
       "      <td>2.911554</td>\n",
       "      <td>0.163478</td>\n",
       "      <td>1.402251</td>\n",
       "      <td>-1.244460</td>\n",
       "      <td>0.827515</td>\n",
       "      <td>-2.875059</td>\n",
       "      <td>-0.323246</td>\n",
       "      <td>0.520745</td>\n",
       "      <td>-0.205174</td>\n",
       "      <td>-1.499808</td>\n",
       "      <td>1</td>\n",
       "    </tr>\n",
       "    <tr>\n",
       "      <th>4</th>\n",
       "      <td>1.333824</td>\n",
       "      <td>-1.561848</td>\n",
       "      <td>2.408792</td>\n",
       "      <td>0.433006</td>\n",
       "      <td>0.477863</td>\n",
       "      <td>-1.966526</td>\n",
       "      <td>1.684337</td>\n",
       "      <td>-1.867530</td>\n",
       "      <td>2.521149</td>\n",
       "      <td>-3.183390</td>\n",
       "      <td>5.744132</td>\n",
       "      <td>-1.597498</td>\n",
       "      <td>0</td>\n",
       "    </tr>\n",
       "  </tbody>\n",
       "</table>\n",
       "</div>"
      ],
      "text/plain": [
       "         0         1         2         3         4         5         6   \\\n",
       "0  1.830433  1.494298 -2.141080 -2.155460  0.270127 -0.200620  0.093839   \n",
       "1 -1.408457 -2.556497  2.616034  3.000666  1.154949  0.288982 -0.404475   \n",
       "2  1.760458  4.608794 -0.142573  1.472204 -3.849782  1.473854 -1.868692   \n",
       "3 -1.731262  0.231366  2.911554  0.163478  1.402251 -1.244460  0.827515   \n",
       "4  1.333824 -1.561848  2.408792  0.433006  0.477863 -1.966526  1.684337   \n",
       "\n",
       "         7         8         9         10        11  12  \n",
       "0  1.171075  1.403914  1.396813 -1.544217  1.676625   0  \n",
       "1 -3.067904 -0.783279 -0.588727  4.597042 -0.110411   1  \n",
       "2 -0.640403  0.538785  2.146118  3.052427  0.949428   1  \n",
       "3 -2.875059 -0.323246  0.520745 -0.205174 -1.499808   1  \n",
       "4 -1.867530  2.521149 -3.183390  5.744132 -1.597498   0  "
      ]
     },
     "execution_count": 2,
     "metadata": {},
     "output_type": "execute_result"
    }
   ],
   "source": [
    "data.head()"
   ]
  },
  {
   "cell_type": "code",
   "execution_count": 3,
   "metadata": {},
   "outputs": [],
   "source": [
    "#target=data[12]"
   ]
  },
  {
   "cell_type": "code",
   "execution_count": 4,
   "metadata": {},
   "outputs": [],
   "source": [
    "#del data[12]"
   ]
  },
  {
   "cell_type": "code",
   "execution_count": 5,
   "metadata": {},
   "outputs": [],
   "source": [
    "#data.shape"
   ]
  },
  {
   "cell_type": "code",
   "execution_count": 6,
   "metadata": {},
   "outputs": [
    {
     "name": "stdout",
     "output_type": "stream",
     "text": [
      "Examples:\n",
      "    Total: 300000\n",
      "    Positive: 161077 (53.69% of total)\n",
      "\n"
     ]
    }
   ],
   "source": [
    "neg, pos = np.bincount(data[12])\n",
    "total = neg + pos\n",
    "print('Examples:\\n    Total: {}\\n    Positive: {} ({:.2f}% of total)\\n'.format(\n",
    "    total, pos, 100 * pos / total))"
   ]
  },
  {
   "cell_type": "code",
   "execution_count": 7,
   "metadata": {},
   "outputs": [],
   "source": [
    "from sklearn.model_selection import train_test_split\n",
    "# Use a utility from sklearn to split and shuffle our dataset.\n",
    "train_df, test_df = train_test_split(data, test_size=0.2)\n",
    "train_df, val_df = train_test_split(train_df, test_size=0.2)\n",
    "\n",
    "# Form np arrays of labels and features.\n",
    "train_labels = np.array(train_df.pop(12))\n",
    "bool_train_labels = train_labels != 0\n",
    "val_labels = np.array(val_df.pop(12))\n",
    "test_labels = np.array(test_df.pop(12))\n",
    "\n",
    "train_features = np.array(train_df)\n",
    "val_features = np.array(val_df)\n",
    "test_features = np.array(test_df)"
   ]
  },
  {
   "cell_type": "code",
   "execution_count": 8,
   "metadata": {},
   "outputs": [
    {
     "name": "stdout",
     "output_type": "stream",
     "text": [
      "Training labels shape: (192000,)\n",
      "Validation labels shape: (48000,)\n",
      "Test labels shape: (60000,)\n",
      "Training features shape: (192000, 12)\n",
      "Validation features shape: (48000, 12)\n",
      "Test features shape: (60000, 12)\n"
     ]
    }
   ],
   "source": [
    "#scaler = StandardScaler()\n",
    "#train_features = scaler.fit_transform(train_features)\n",
    "\n",
    "#val_features = scaler.transform(val_features)\n",
    "#test_features = scaler.transform(test_features)\n",
    "\n",
    "#train_features = np.clip(train_features, -5, 5)\n",
    "#val_features = np.clip(val_features, -5, 5)\n",
    "#test_features = np.clip(test_features, -5, 5)\n",
    "\n",
    "\n",
    "print('Training labels shape:', train_labels.shape)\n",
    "print('Validation labels shape:', val_labels.shape)\n",
    "print('Test labels shape:', test_labels.shape)\n",
    "\n",
    "print('Training features shape:', train_features.shape)\n",
    "print('Validation features shape:', val_features.shape)\n",
    "print('Test features shape:', test_features.shape)"
   ]
  },
  {
   "cell_type": "code",
   "execution_count": 9,
   "metadata": {},
   "outputs": [],
   "source": [
    "METRICS = [\n",
    "      keras.metrics.TruePositives(name='tp'),\n",
    "      keras.metrics.FalsePositives(name='fp'),\n",
    "      keras.metrics.TrueNegatives(name='tn'),\n",
    "      keras.metrics.FalseNegatives(name='fn'), \n",
    "      keras.metrics.BinaryAccuracy(name='accuracy'),\n",
    "      keras.metrics.Precision(name='precision'),\n",
    "      keras.metrics.Recall(name='recall'),\n",
    "      keras.metrics.AUC(name='auc'),\n",
    "]"
   ]
  },
  {
   "cell_type": "code",
   "execution_count": 10,
   "metadata": {},
   "outputs": [],
   "source": [
    "model = keras.Sequential([\n",
    "    keras.layers.Flatten(input_shape=(12,)),\n",
    "    keras.layers.Dense(256, activation=tf.nn.relu),\n",
    "    keras.layers.Dense(256, activation=tf.nn.relu),\n",
    "    keras.layers.Dense(256, activation=tf.nn.relu),\n",
    "    keras.layers.Dense(1, activation=tf.nn.sigmoid),\n",
    "])"
   ]
  },
  {
   "cell_type": "code",
   "execution_count": 11,
   "metadata": {},
   "outputs": [
    {
     "name": "stdout",
     "output_type": "stream",
     "text": [
      "Epoch 1/100\n",
      "9600/9600 [==============================] - 43s 4ms/step - loss: 0.6791 - binary_accuracy: 0.5658 - val_loss: 0.6615 - val_binary_accuracy: 0.6026\n",
      "Epoch 2/100\n",
      "9600/9600 [==============================] - 29s 3ms/step - loss: 0.6383 - binary_accuracy: 0.6320 - val_loss: 0.6057 - val_binary_accuracy: 0.6647\n",
      "Epoch 3/100\n",
      "9600/9600 [==============================] - 29s 3ms/step - loss: 0.5886 - binary_accuracy: 0.6797 - val_loss: 0.5708 - val_binary_accuracy: 0.6944\n",
      "Epoch 4/100\n",
      "9600/9600 [==============================] - 29s 3ms/step - loss: 0.5669 - binary_accuracy: 0.6976 - val_loss: 0.5534 - val_binary_accuracy: 0.7085\n",
      "Epoch 5/100\n",
      "9600/9600 [==============================] - 29s 3ms/step - loss: 0.5457 - binary_accuracy: 0.7181 - val_loss: 0.5361 - val_binary_accuracy: 0.7274\n",
      "Epoch 6/100\n",
      "9600/9600 [==============================] - 29s 3ms/step - loss: 0.5276 - binary_accuracy: 0.7334 - val_loss: 0.5189 - val_binary_accuracy: 0.7422\n",
      "Epoch 7/100\n",
      "9600/9600 [==============================] - 30s 3ms/step - loss: 0.5139 - binary_accuracy: 0.7448 - val_loss: 0.5169 - val_binary_accuracy: 0.7441\n",
      "Epoch 8/100\n",
      "9600/9600 [==============================] - 29s 3ms/step - loss: 0.5016 - binary_accuracy: 0.7533 - val_loss: 0.5068 - val_binary_accuracy: 0.7522\n",
      "Epoch 9/100\n",
      "9600/9600 [==============================] - 30s 3ms/step - loss: 0.4895 - binary_accuracy: 0.7608 - val_loss: 0.4909 - val_binary_accuracy: 0.7625\n",
      "Epoch 10/100\n",
      "9600/9600 [==============================] - 30s 3ms/step - loss: 0.4658 - binary_accuracy: 0.7760 - val_loss: 0.4488 - val_binary_accuracy: 0.7858\n",
      "Epoch 11/100\n",
      "9600/9600 [==============================] - 30s 3ms/step - loss: 0.4403 - binary_accuracy: 0.7924 - val_loss: 0.4333 - val_binary_accuracy: 0.7958\n",
      "Epoch 12/100\n",
      "9600/9600 [==============================] - 29s 3ms/step - loss: 0.4144 - binary_accuracy: 0.8085 - val_loss: 0.3984 - val_binary_accuracy: 0.8162\n",
      "Epoch 13/100\n",
      "9600/9600 [==============================] - 28s 3ms/step - loss: 0.3941 - binary_accuracy: 0.8196 - val_loss: 0.3792 - val_binary_accuracy: 0.8289\n",
      "Epoch 14/100\n",
      "9600/9600 [==============================] - 30s 3ms/step - loss: 0.3797 - binary_accuracy: 0.8277 - val_loss: 0.3790 - val_binary_accuracy: 0.8304\n",
      "Epoch 15/100\n",
      "9600/9600 [==============================] - 34s 4ms/step - loss: 0.3703 - binary_accuracy: 0.8331 - val_loss: 0.3757 - val_binary_accuracy: 0.8335\n",
      "Epoch 16/100\n",
      "9600/9600 [==============================] - 31s 3ms/step - loss: 0.3592 - binary_accuracy: 0.8397 - val_loss: 0.3447 - val_binary_accuracy: 0.8453\n",
      "Epoch 17/100\n",
      "9600/9600 [==============================] - 25s 3ms/step - loss: 0.3509 - binary_accuracy: 0.8433 - val_loss: 0.3385 - val_binary_accuracy: 0.8504\n",
      "Epoch 18/100\n",
      "9600/9600 [==============================] - 25s 3ms/step - loss: 0.3392 - binary_accuracy: 0.8487 - val_loss: 0.3292 - val_binary_accuracy: 0.8537\n",
      "Epoch 19/100\n",
      "9600/9600 [==============================] - 25s 3ms/step - loss: 0.3281 - binary_accuracy: 0.8541 - val_loss: 0.3231 - val_binary_accuracy: 0.8556\n",
      "Epoch 20/100\n",
      "9600/9600 [==============================] - 25s 3ms/step - loss: 0.3177 - binary_accuracy: 0.8594 - val_loss: 0.3183 - val_binary_accuracy: 0.8574\n",
      "Epoch 21/100\n",
      "9600/9600 [==============================] - 25s 3ms/step - loss: 0.3055 - binary_accuracy: 0.8654 - val_loss: 0.3059 - val_binary_accuracy: 0.8625\n",
      "Epoch 22/100\n",
      "9600/9600 [==============================] - 25s 3ms/step - loss: 0.2946 - binary_accuracy: 0.8692 - val_loss: 0.2893 - val_binary_accuracy: 0.8715\n",
      "Epoch 23/100\n",
      "9600/9600 [==============================] - 25s 3ms/step - loss: 0.2783 - binary_accuracy: 0.8759 - val_loss: 0.2905 - val_binary_accuracy: 0.8718\n",
      "Epoch 24/100\n",
      "9600/9600 [==============================] - 25s 3ms/step - loss: 0.2640 - binary_accuracy: 0.8829 - val_loss: 0.2718 - val_binary_accuracy: 0.8766\n",
      "Epoch 25/100\n",
      "9600/9600 [==============================] - 25s 3ms/step - loss: 0.2564 - binary_accuracy: 0.8852 - val_loss: 0.2545 - val_binary_accuracy: 0.8853\n",
      "Epoch 26/100\n",
      "9600/9600 [==============================] - 25s 3ms/step - loss: 0.2512 - binary_accuracy: 0.8874 - val_loss: 0.2424 - val_binary_accuracy: 0.8928\n",
      "Epoch 27/100\n",
      "9600/9600 [==============================] - 25s 3ms/step - loss: 0.2449 - binary_accuracy: 0.8899 - val_loss: 0.2479 - val_binary_accuracy: 0.8881\n",
      "Epoch 28/100\n",
      "9600/9600 [==============================] - 25s 3ms/step - loss: 0.2411 - binary_accuracy: 0.8931 - val_loss: 0.2414 - val_binary_accuracy: 0.8909\n",
      "Epoch 29/100\n",
      "9600/9600 [==============================] - 25s 3ms/step - loss: 0.2374 - binary_accuracy: 0.8944 - val_loss: 0.2403 - val_binary_accuracy: 0.8914\n",
      "Epoch 30/100\n",
      "9600/9600 [==============================] - 25s 3ms/step - loss: 0.2354 - binary_accuracy: 0.8952 - val_loss: 0.2408 - val_binary_accuracy: 0.8905\n",
      "Epoch 31/100\n",
      "9600/9600 [==============================] - 25s 3ms/step - loss: 0.2316 - binary_accuracy: 0.8954 - val_loss: 0.2316 - val_binary_accuracy: 0.8929\n",
      "Epoch 32/100\n",
      "9600/9600 [==============================] - 25s 3ms/step - loss: 0.2291 - binary_accuracy: 0.8976 - val_loss: 0.2406 - val_binary_accuracy: 0.8904\n",
      "Epoch 33/100\n",
      "9600/9600 [==============================] - 25s 3ms/step - loss: 0.2257 - binary_accuracy: 0.8985 - val_loss: 0.2204 - val_binary_accuracy: 0.9011\n",
      "Epoch 34/100\n",
      "9600/9600 [==============================] - 25s 3ms/step - loss: 0.2253 - binary_accuracy: 0.8990 - val_loss: 0.2340 - val_binary_accuracy: 0.8944\n",
      "Epoch 35/100\n",
      "9600/9600 [==============================] - 25s 3ms/step - loss: 0.2222 - binary_accuracy: 0.9005 - val_loss: 0.2198 - val_binary_accuracy: 0.9007\n",
      "Epoch 36/100\n",
      "9600/9600 [==============================] - 25s 3ms/step - loss: 0.2202 - binary_accuracy: 0.9014 - val_loss: 0.2200 - val_binary_accuracy: 0.9018\n",
      "Epoch 37/100\n",
      "9600/9600 [==============================] - 25s 3ms/step - loss: 0.2197 - binary_accuracy: 0.9012 - val_loss: 0.2214 - val_binary_accuracy: 0.8987\n",
      "Epoch 38/100\n",
      "9600/9600 [==============================] - 24s 3ms/step - loss: 0.2184 - binary_accuracy: 0.9019 - val_loss: 0.2228 - val_binary_accuracy: 0.9002\n",
      "Epoch 39/100\n",
      "9600/9600 [==============================] - 25s 3ms/step - loss: 0.2164 - binary_accuracy: 0.9028 - val_loss: 0.2214 - val_binary_accuracy: 0.8998\n",
      "Epoch 40/100\n",
      "9600/9600 [==============================] - 24s 3ms/step - loss: 0.2145 - binary_accuracy: 0.9033 - val_loss: 0.2253 - val_binary_accuracy: 0.8995\n",
      "Epoch 41/100\n",
      "9600/9600 [==============================] - 25s 3ms/step - loss: 0.2132 - binary_accuracy: 0.9042 - val_loss: 0.2292 - val_binary_accuracy: 0.8977\n",
      "Epoch 42/100\n",
      "9600/9600 [==============================] - 25s 3ms/step - loss: 0.2120 - binary_accuracy: 0.9047 - val_loss: 0.2084 - val_binary_accuracy: 0.9060\n",
      "Epoch 43/100\n",
      "9600/9600 [==============================] - 25s 3ms/step - loss: 0.2119 - binary_accuracy: 0.9049 - val_loss: 0.2157 - val_binary_accuracy: 0.9005\n",
      "Epoch 44/100\n",
      "9600/9600 [==============================] - 27s 3ms/step - loss: 0.2103 - binary_accuracy: 0.9052 - val_loss: 0.2085 - val_binary_accuracy: 0.9049\n",
      "Epoch 45/100\n",
      "9600/9600 [==============================] - 27s 3ms/step - loss: 0.2091 - binary_accuracy: 0.9064 - val_loss: 0.2191 - val_binary_accuracy: 0.8997\n",
      "Epoch 46/100\n",
      "9600/9600 [==============================] - 25s 3ms/step - loss: 0.2088 - binary_accuracy: 0.9062 - val_loss: 0.2150 - val_binary_accuracy: 0.9015\n",
      "Epoch 47/100\n",
      "9600/9600 [==============================] - 25s 3ms/step - loss: 0.2065 - binary_accuracy: 0.9068 - val_loss: 0.2028 - val_binary_accuracy: 0.9082\n",
      "Epoch 48/100\n",
      "9600/9600 [==============================] - 25s 3ms/step - loss: 0.2054 - binary_accuracy: 0.9081 - val_loss: 0.2117 - val_binary_accuracy: 0.9048\n",
      "Epoch 49/100\n",
      "9600/9600 [==============================] - 25s 3ms/step - loss: 0.2054 - binary_accuracy: 0.9073 - val_loss: 0.2107 - val_binary_accuracy: 0.9037\n",
      "Epoch 50/100\n",
      "9600/9600 [==============================] - 25s 3ms/step - loss: 0.2036 - binary_accuracy: 0.9084 - val_loss: 0.2209 - val_binary_accuracy: 0.8991\n",
      "Epoch 51/100\n",
      "9600/9600 [==============================] - 27s 3ms/step - loss: 0.2031 - binary_accuracy: 0.9080 - val_loss: 0.2152 - val_binary_accuracy: 0.9031\n"
     ]
    },
    {
     "name": "stdout",
     "output_type": "stream",
     "text": [
      "Epoch 52/100\n",
      "9600/9600 [==============================] - 28s 3ms/step - loss: 0.2025 - binary_accuracy: 0.9089 - val_loss: 0.2159 - val_binary_accuracy: 0.9019\n",
      "Epoch 53/100\n",
      "9600/9600 [==============================] - 29s 3ms/step - loss: 0.2017 - binary_accuracy: 0.9090 - val_loss: 0.2030 - val_binary_accuracy: 0.9074\n",
      "Epoch 54/100\n",
      "9600/9600 [==============================] - 29s 3ms/step - loss: 0.2002 - binary_accuracy: 0.9096 - val_loss: 0.2056 - val_binary_accuracy: 0.9075\n",
      "Epoch 55/100\n",
      "9600/9600 [==============================] - 29s 3ms/step - loss: 0.1997 - binary_accuracy: 0.9102 - val_loss: 0.2154 - val_binary_accuracy: 0.9004\n",
      "Epoch 56/100\n",
      "9600/9600 [==============================] - 29s 3ms/step - loss: 0.1988 - binary_accuracy: 0.9097 - val_loss: 0.2144 - val_binary_accuracy: 0.9039\n",
      "Epoch 57/100\n",
      "9597/9600 [============================>.] - ETA: 0s - loss: 0.1979 - binary_accuracy: 0.9106Restoring model weights from the end of the best epoch.\n",
      "9600/9600 [==============================] - 29s 3ms/step - loss: 0.1979 - binary_accuracy: 0.9106 - val_loss: 0.2021 - val_binary_accuracy: 0.9076\n",
      "Epoch 00057: early stopping\n"
     ]
    },
    {
     "data": {
      "text/plain": [
       "<tensorflow.python.keras.callbacks.History at 0x1582429ec10>"
      ]
     },
     "execution_count": 11,
     "metadata": {},
     "output_type": "execute_result"
    }
   ],
   "source": [
    "tf.keras.metrics.BinaryAccuracy(\n",
    "    name=\"binary_accuracy\", dtype=None, threshold=0.5\n",
    ")\n",
    "model.compile(optimizer=keras.optimizers.Adam(lr=1e-3),loss=keras.losses.BinaryCrossentropy(),metrics=[tf.keras.metrics.BinaryAccuracy()])\n",
    "\n",
    "early_stopping = tf.keras.callbacks.EarlyStopping(\n",
    "    monitor='val_binary_accuracy', \n",
    "    verbose=1,\n",
    "    patience=10,\n",
    "    mode='max',\n",
    "    restore_best_weights=True)\n",
    "\n",
    "model.fit(train_features, train_labels, epochs=100, batch_size=20, validation_data=(val_features, val_labels), callbacks=[early_stopping])\n",
    "#test_loss, test_acc = model.evaluate(X_test, y_test)"
   ]
  },
  {
   "cell_type": "code",
   "execution_count": 12,
   "metadata": {},
   "outputs": [],
   "source": [
    "from sklearn.metrics import roc_curve                                                                                                                                                                     \n",
    "y_pred_keras = model.predict(train_features).ravel()\n",
    "fpr_keras, tpr_keras, thresholds_keras = roc_curve(train_labels, y_pred_keras)"
   ]
  },
  {
   "cell_type": "code",
   "execution_count": 13,
   "metadata": {},
   "outputs": [],
   "source": [
    "from sklearn.metrics import auc\n",
    "auc_keras = auc(fpr_keras, tpr_keras)"
   ]
  },
  {
   "cell_type": "code",
   "execution_count": 14,
   "metadata": {},
   "outputs": [
    {
     "data": {
      "image/png": "[encoded data removed]",
      "text/plain": [
       "<Figure size 432x288 with 1 Axes>"
      ]
     },
     "metadata": {
      "needs_background": "light"
     },
     "output_type": "display_data"
    }
   ],
   "source": [
    "import matplotlib.pyplot as plt\n",
    "plt.figure(1)\n",
    "plt.plot([0, 1], [0, 1], 'k--')\n",
    "plt.plot(fpr_keras, tpr_keras, label='Keras (area = {:.3f})'.format(auc_keras))\n",
    "plt.xlabel('False positive rate')\n",
    "plt.ylabel('True positive rate')\n",
    "plt.title('ROC curve')\n",
    "plt.legend(loc='best')\n",
    "plt.show()"
   ]
  },
  {
   "cell_type": "code",
   "execution_count": 15,
   "metadata": {},
   "outputs": [],
   "source": [
    "train_predictions_baseline = model.predict(train_features, batch_size=20)\n",
    "test_predictions_baseline = model.predict(test_features, batch_size=20)"
   ]
  },
  {
   "cell_type": "code",
   "execution_count": 16,
   "metadata": {},
   "outputs": [],
   "source": [
    "def plot_cm(labels, predictions, p=0.5):\n",
    "  cm = confusion_matrix(labels, predictions > p)\n",
    "  plt.figure(figsize=(5,5))\n",
    "  sns.heatmap(cm, annot=True, fmt=\"d\")\n",
    "  plt.title('Confusion matrix @{:.2f}'.format(p))\n",
    "  plt.ylabel('Actual label')\n",
    "  plt.xlabel('Predicted label')\n",
    "\n",
    "  print('True Negatives: ', cm[0][0])\n",
    "  print('False Positives: ', cm[0][1])\n",
    "  print('False Negatives: ', cm[1][0])\n",
    "  print('True Positives: ', cm[1][1])\n",
    "  print('Total: ', np.sum(cm[1]))"
   ]
  },
  {
   "cell_type": "code",
   "execution_count": 17,
   "metadata": {},
   "outputs": [
    {
     "name": "stdout",
     "output_type": "stream",
     "text": [
      "loss :  0.20652958750724792\n",
      "binary_accuracy :  0.9065166711807251\n",
      "\n",
      "True Negatives:  25412\n",
      "False Positives:  2481\n",
      "False Negatives:  3128\n",
      "True Positives:  28979\n",
      "Total:  32107\n"
     ]
    },
    {
     "data": {
      "image/png": "[encoded data removed]",
      "text/plain": [
       "<Figure size 360x360 with 2 Axes>"
      ]
     },
     "metadata": {
      "needs_background": "light"
     },
     "output_type": "display_data"
    }
   ],
   "source": [
    "import seaborn as sns\n",
    "from sklearn.metrics import confusion_matrix\n",
    "baseline_results = model.evaluate(test_features, test_labels,\n",
    "                                  batch_size=20, verbose=0)\n",
    "for name, value in zip(model.metrics_names, baseline_results):\n",
    "  print(name, ': ', value)\n",
    "print()\n",
    "\n",
    "plot_cm(test_labels, test_predictions_baseline)"
   ]
  },
  {
   "cell_type": "code",
   "execution_count": 18,
   "metadata": {},
   "outputs": [],
   "source": [
    "df = pd.read_csv('Downloads/test-in.txt', sep=\" \", header=None)"
   ]
  },
  {
   "cell_type": "code",
   "execution_count": 19,
   "metadata": {},
   "outputs": [],
   "source": [
    "ynew=(model.predict(df) > 0.5).astype(\"int32\")"
   ]
  },
  {
   "cell_type": "code",
   "execution_count": 20,
   "metadata": {},
   "outputs": [
    {
     "name": "stdout",
     "output_type": "stream",
     "text": [
      "[[1]\n",
      " [1]\n",
      " [1]\n",
      " ...\n",
      " [0]\n",
      " [0]\n",
      " [0]]\n"
     ]
    }
   ],
   "source": [
    "print(ynew)"
   ]
  },
  {
   "cell_type": "code",
   "execution_count": 21,
   "metadata": {},
   "outputs": [
    {
     "data": {
      "text/plain": [
       "{0: 4759, 1: 5241}"
      ]
     },
     "execution_count": 21,
     "metadata": {},
     "output_type": "execute_result"
    }
   ],
   "source": [
    "unique, counts = np.unique(ynew, return_counts=True)\n",
    "dict(zip(unique, counts))"
   ]
  },
  {
   "cell_type": "code",
   "execution_count": 22,
   "metadata": {},
   "outputs": [],
   "source": [
    "model.save('my_model.h5')"
   ]
  },
  {
   "cell_type": "code",
   "execution_count": 23,
   "metadata": {},
   "outputs": [],
   "source": [
    "#70 #72 #81 #25\n",
    "with open('test-out.txt', 'w') as file:\n",
    "    for n in ynew:\n",
    "        file.write(\"%i\\n\" % n)"
   ]
  },
  {
   "cell_type": "code",
   "execution_count": 24,
   "metadata": {},
   "outputs": [
    {
     "name": "stdout",
     "output_type": "stream",
     "text": [
      "0.9809428751577044\n"
     ]
    }
   ],
   "source": [
    "from sklearn.metrics import average_precision_score\n",
    "y_pred_keras = model.predict(train_features).ravel()\n",
    "average_precision = average_precision_score(train_labels, y_pred_keras)\n",
    "print(average_precision)"
   ]
  },
  {
   "cell_type": "code",
   "execution_count": 25,
   "metadata": {},
   "outputs": [
    {
     "name": "stdout",
     "output_type": "stream",
     "text": [
      "0.9809427872938199\n"
     ]
    }
   ],
   "source": [
    "from sklearn.metrics import average_precision_score, precision_recall_curve\n",
    "from sklearn.metrics import auc, plot_precision_recall_curve\n",
    "# Data to plot precision - recall curve\n",
    "precision, recall, thresholds = precision_recall_curve(train_labels, y_pred_keras)\n",
    "# Use AUC function to calculate the area under the curve of precision recall curve\n",
    "auc_precision_recall = auc(recall, precision)\n",
    "print(auc_precision_recall)"
   ]
  },
  {
   "cell_type": "code",
   "execution_count": 26,
   "metadata": {},
   "outputs": [
    {
     "data": {
      "image/png": "[encoded data removed]",
      "text/plain": [
       "<Figure size 432x288 with 1 Axes>"
      ]
     },
     "metadata": {
      "needs_background": "light"
     },
     "output_type": "display_data"
    }
   ],
   "source": [
    "plt.plot(recall, precision)\n",
    "plt.show()"
   ]
  },
  {
   "cell_type": "code",
   "execution_count": null,
   "metadata": {},
   "outputs": [],
   "source": []
  }
 ],
 "metadata": {
  "kernelspec": {
   "display_name": "Python 3",
   "language": "python",
   "name": "python3"
  },
  "language_info": {
   "codemirror_mode": {
    "name": "ipython",
    "version": 3
   },
   "file_extension": ".py",
   "mimetype": "text/x-python",
   "name": "python",
   "nbconvert_exporter": "python",
   "pygments_lexer": "ipython3",
   "version": "3.8.3"
  }
 },
 "nbformat": 4,
 "nbformat_minor": 4
}
